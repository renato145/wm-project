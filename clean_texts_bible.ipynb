{
 "cells": [
  {
   "cell_type": "code",
   "execution_count": 1,
   "metadata": {
    "collapsed": false
   },
   "outputs": [
    {
     "name": "stderr",
     "output_type": "stream",
     "text": [
      "/home/m20163692/anaconda3/envs/tf/lib/python3.5/site-packages/gensim/utils.py:1015: UserWarning: Pattern library is not installed, lemmatization won't be available.\n",
      "  warnings.warn(\"Pattern library is not installed, lemmatization won't be available.\")\n"
     ]
    }
   ],
   "source": [
    "import re\n",
    "import os\n",
    "from nl.utils import read_file_lines, print_lines\n",
    "from time import time"
   ]
  },
  {
   "cell_type": "markdown",
   "metadata": {},
   "source": [
    "### Bible text cleaning\n",
    "* Source: http://www.su-iglesia.com/servicios/biblia/otras/ReinaValera.htm"
   ]
  },
  {
   "cell_type": "code",
   "execution_count": 3,
   "metadata": {
    "collapsed": false
   },
   "outputs": [
    {
     "name": "stdout",
     "output_type": "stream",
     "text": [
      "Cleaning time: 1.93s\n"
     ]
    }
   ],
   "source": [
    "text_dir = 'text_files'\n",
    "source = os.path.join(text_dir, 'bible.txt')\n",
    "result = os.path.join(text_dir, 'bible_clean.txt')\n",
    "\n",
    "t0 = time()\n",
    "bible = read_file_lines(source, encoding = 'ISO-8859-1', skip_lines=71)\n",
    "if os.path.exists(result):\n",
    "    os.remove(result)\n",
    "    \n",
    "for line in bible:\n",
    "    fline = re.split('^\\S+\\s', line)\n",
    "    if len(fline) == 2:\n",
    "        fline = fline[1]\n",
    "    else:\n",
    "        fline = fline[0]\n",
    "    with open(result, 'a') as f:\n",
    "        f.write(fline)\n",
    "        \n",
    "print('Cleaning time: %.2fs' % (time()-t0))"
   ]
  },
  {
   "cell_type": "code",
   "execution_count": 4,
   "metadata": {
    "collapsed": false
   },
   "outputs": [
    {
     "name": "stdout",
     "output_type": "stream",
     "text": [
      "Original file:\n",
      "1.1.1. En el principio creó Dios los cielos y la tierra. \n",
      "\n",
      "1.1.2. Y la tierra estaba desordenada y vacía, y las tinieblas estaban sobre la faz del abismo, y el Espíritu de Dios se movía sobre la faz de las aguas. \n",
      "\n",
      "1.1.3. Y dijo Dios: Sea la luz; y fue la luz. \n",
      "\n",
      "1.1.4. Y vio Dios que la luz era buena; y separó Dios la luz de las tinieblas. \n",
      "\n",
      "1.1.5. Y llamó Dios a la luz Día, y a las tinieblas llamó Noche. Y fue la tarde y la mañana un día. \n",
      "\n",
      "--------------------------------------------------\n",
      "Clean file:\n",
      "En el principio creó Dios los cielos y la tierra. \n",
      "\n",
      "Y la tierra estaba desordenada y vacía, y las tinieblas estaban sobre la faz del abismo, y el Espíritu de Dios se movía sobre la faz de las aguas. \n",
      "\n",
      "Y dijo Dios: Sea la luz; y fue la luz. \n",
      "\n",
      "Y vio Dios que la luz era buena; y separó Dios la luz de las tinieblas. \n",
      "\n",
      "Y llamó Dios a la luz Día, y a las tinieblas llamó Noche. Y fue la tarde y la mañana un día. \n",
      "\n"
     ]
    }
   ],
   "source": [
    "print('Original file:')\n",
    "print_lines(read_file_lines(source, encoding = \"ISO-8859-1\", skip_lines=71))\n",
    "print('-'*50)\n",
    "print('Clean file:')\n",
    "print_lines(read_file_lines(result))"
   ]
  }
 ],
 "metadata": {
  "anaconda-cloud": {},
  "kernelspec": {
   "display_name": "Python [conda env:tf]",
   "language": "python",
   "name": "conda-env-tf-py"
  }
 },
 "nbformat": 4,
 "nbformat_minor": 1
}
