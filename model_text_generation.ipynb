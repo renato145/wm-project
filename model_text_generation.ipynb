{
 "cells": [
  {
   "cell_type": "code",
   "execution_count": 1,
   "metadata": {
    "collapsed": false
   },
   "outputs": [
    {
     "name": "stderr",
     "output_type": "stream",
     "text": [
      "Using TensorFlow backend.\n",
      "/home/m20163692/anaconda3/envs/tf/lib/python3.5/site-packages/gensim/utils.py:1015: UserWarning: Pattern library is not installed, lemmatization won't be available.\n",
      "  warnings.warn(\"Pattern library is not installed, lemmatization won't be available.\")\n"
     ]
    }
   ],
   "source": [
    "# Keras fix\n",
    "import tensorflow\n",
    "from tensorflow.python.ops import control_flow_ops\n",
    "tensorflow.python.control_flow_ops = control_flow_ops\n",
    "\n",
    "from keras.models import load_model\n",
    "from nl.text_gen import generate_from_model\n",
    "from nl.utils import load_w2v_data, GenerateSamples, print_word_list, parse_text"
   ]
  },
  {
   "cell_type": "code",
   "execution_count": 2,
   "metadata": {
    "collapsed": false
   },
   "outputs": [
    {
     "name": "stdout",
     "output_type": "stream",
     "text": [
      "Loading files...\n"
     ]
    }
   ],
   "source": [
    "print('Loading files...')\n",
    "\n",
    "text_file = 'text_files/bible_clean.txt'\n",
    "model_file = 'models/bible_model.h5'\n",
    "\n",
    "model = load_model(model_file)\n",
    "seq_len = model.input_shape[1]\n",
    "input_dim = model.input_shape[2]\n",
    "\n",
    "word2idx, idx2word, embeddings = load_w2v_data('w2v_embs/bible/bible_vocab.json',\n",
    "                                               'w2v_embs/bible/bible_embeddings.npz')"
   ]
  },
  {
   "cell_type": "code",
   "execution_count": 3,
   "metadata": {
    "collapsed": false,
    "scrolled": false
   },
   "outputs": [
    {
     "name": "stdout",
     "output_type": "stream",
     "text": [
      "--------------------------------------------------------------------------------\n",
      "SAMPLE 1:\n",
      "y estando él sentado en el monte de los olivos, los\n",
      "\n",
      "TRUTH:\n",
      "y estando él sentado en el monte de los olivos, los discípulos se le acercaron aparte, diciendo: dinos, ¿cuándo serán estas cosas, y qué señal habrá de tu venida, y del fin del siglo?\n",
      "\n",
      "GENERATED FROM MODEL (temperature = 0.250000):\n",
      "y estando él sentado en el monte de los olivos, los de la ciudad, y los que están en la tierra.\n",
      "y los que están en pie han sido muertos, y ha sido hechos en sus obras.\n",
      "porque el que hace justicia, es de dios, y no lo que es de dios.\n",
      "porque no nos ha dado dios a los que están en vosotros, y a los que están en vosotros, y a los que están en la tierra.\n",
      "porque los que están en la tierra han sido muertos, y los que están en la tierra han sido hechos en\n",
      "\n",
      "GENERATED FROM MODEL (temperature = 0.500000):\n",
      "y estando él sentado en el monte de los olivos, los de la ciudad, y los que se han, y los que son de la carne, y los que están en la tierra han sido muertos, y sus siervos han sido hechos a los cielos, y a los que están en la tierra, y a los que están en las cosas, que están en los cielos, y en la tierra, y en las cosas que están en la tierra, y las que están en las riquezas de la bestia.\n",
      "y el cielo se ha dado en un nombre a los\n",
      "\n",
      "GENERATED FROM MODEL (temperature = 0.750000):\n",
      "y estando él sentado en el monte de los olivos, los dios rey de israel y de ser a los reyes de la tierra.\n",
      "y también para esto me has dado a conocer; he aquí, el día del señor, el quien me ha dado el reino de dios, vino y por todos mi dios, para que agua sin sangre, no como para ellos, así también lo he escrito por vosotros, y no me lo he escrito.\n",
      "cada uno con su propia carne, la cual es la mal.\n",
      "el que no ama, es pecado; pero él es la\n",
      "--------------------------------------------------------------------------------\n",
      "--------------------------------------------------------------------------------\n",
      "SAMPLE 2:\n",
      "proponed en vuestros corazones no pensar antes cómo habéis de responder en\n",
      "\n",
      "TRUTH:\n",
      "proponed en vuestros corazones no pensar antes cómo habéis de responder en vuestra defensa; porque yo os daré palabra y sabiduría, la cual no podrán resistir ni contradecir todos los que se opongan.\n",
      "mas seréis entregados aun por vuestros\n",
      "\n",
      "GENERATED FROM MODEL (temperature = 0.250000):\n",
      "proponed en vuestros corazones no pensar antes cómo habéis de responder en mis mandamientos.\n",
      "porque no os hemos oído que no os ha dado dios, sino que también vosotros me ha dado el poder de dios.\n",
      "porque no me he escrito, sino que me he dado el espíritu de vida para que me lo he dado, para que también me he dado el hijo de dios.\n",
      "y me dijo: yo soy el dios de abraham, el dios de abraham, el dios de paz, y de los que están en la tierra.\n",
      "y los que están en la tierra han sido hechos\n",
      "\n",
      "GENERATED FROM MODEL (temperature = 0.500000):\n",
      "proponed en vuestros corazones no pensar antes cómo habéis de responder en el mundo, sino que también en esto se me ha dado el hijo, para que me llamó, y no me por vosotros, pues no os ha dado a conocer el poder de dios.\n",
      "porque no os he escrito esto, sino que también os ha dado el poder de los reyes de la tierra, para que también se les dio la gracia de dios por los que lo habían dado, para que también se lo por los que habían sido de dios, para que en cuanto a la carne, también también\n",
      "\n",
      "GENERATED FROM MODEL (temperature = 0.750000):\n",
      "proponed en vuestros corazones no pensar antes cómo habéis de responder en la carne, pero no y no lo he enviado; porque en el señor ha sido yo la casa de ellos.\n",
      "porque en cuanto a las cosas que están en la tierra, las que están en la tierra, éstos son los que están en todas las cosas.\n",
      "y en todo os he escrito a hermanos, porque santo habéis oído la fe por medio de nuestro señor, y por los hechos de la vida, a fin de que ninguno a todos los hombres, sino que también en todo tengo.\n",
      "porque todos\n",
      "--------------------------------------------------------------------------------\n",
      "--------------------------------------------------------------------------------\n",
      "SAMPLE 3:\n",
      "porque en él fueron creadas todas las cosas, las que hay\n",
      "\n",
      "TRUTH:\n",
      "porque en él fueron creadas todas las cosas, las que hay en los cielos y las que hay en la tierra, visibles e invisibles; sean tronos, sean dominios, sean principados, sean potestades; todo fue creado\n",
      "\n",
      "GENERATED FROM MODEL (temperature = 0.250000):\n",
      "porque en él fueron creadas todas las cosas, las que hay en vosotros, que están en los cielos, y en los cielos, para que los que están en la tierra, y los que están en la tierra han sido hechos en los cielos, y en la tierra, y en toda la tierra.\n",
      "y el que lo hizo, no lo lo he escrito.\n",
      "y el que de la manera que está en los cielos, y no se hace.\n",
      "porque el que es de los cielos, no es de dios, sino que también la fe en él está en vosotros\n",
      "\n",
      "GENERATED FROM MODEL (temperature = 0.500000):\n",
      "porque en él fueron creadas todas las cosas, las que hay en él, y en la tierra, y en sus obras.\n",
      "y la palabra del señor se se me dio, para que no sea que me a mí, y por todos los santos, y por todos los que están en vosotros, no os ha sido la gloria de dios.\n",
      "por lo cual también no os he escrito.\n",
      "porque el que hace la voluntad de dios, y la fe de dios, en el cual también fue hecho, y en quien fue hecho.\n",
      "y no se le dio un nombre\n",
      "\n",
      "GENERATED FROM MODEL (temperature = 0.750000):\n",
      "porque en él fueron creadas todas las cosas, las que hay en él, a fin de que se os según lo que está en vosotros, que os también.\n",
      "y por vosotros mismos es la sangre del pacto con dios, y no si dios le ha sido dada, no os como.\n",
      "y yo, hermanos, os ruego que me tal como en las riquezas, a fin de a que también los cielos se han visto, y me he hecho; no por causa de mi nombre, como está escrito: a los que hemos oído lo que no han sido hecho,\n",
      "--------------------------------------------------------------------------------\n"
     ]
    }
   ],
   "source": [
    "# Random samples from text_file\n",
    "n_samples = 3\n",
    "n_words = 100\n",
    "print_truth = True\n",
    "n_truth_words = 30\n",
    "temperatures = [0.25, 0.5, 0.75]\n",
    "\n",
    "samples = GenerateSamples(word2idx, text_file, 'spanish_g', n_samples, n_words)\n",
    "\n",
    "for idx, sample in enumerate(samples):\n",
    "    print('-' * 80)\n",
    "    print('SAMPLE %d:' % (idx + 1))\n",
    "    print_word_list(sample[:seq_len])\n",
    "    \n",
    "    if print_truth:\n",
    "        print('\\nTRUTH:')\n",
    "        print_word_list(sample[:seq_len + n_truth_words])\n",
    "    \n",
    "    for temperature in temperatures:\n",
    "        print('\\nGENERATED FROM MODEL (temperature = %f):' % temperature)\n",
    "        model_sample = generate_from_model(sample, model, embeddings, idx2word,\n",
    "                                           word2idx, n_words, temperature)\n",
    "        print_word_list(model_sample)\n",
    "    \n",
    "    print('-' * 80)"
   ]
  },
  {
   "cell_type": "code",
   "execution_count": 23,
   "metadata": {
    "collapsed": false
   },
   "outputs": [
    {
     "name": "stdout",
     "output_type": "stream",
     "text": [
      "SOURCE TEXT:\n",
      "Y en ese momento todos dijeron\n",
      "\n",
      "GENERATED FROM MODEL (temperature = 0.250000):\n",
      "y en ese momento todos dijeron: no nos ha dado el cuerpo.\n",
      "y la mujer que se me ha dado el hijo de dios.\n",
      "y los que no se ven, y no lo que es de dios.\n",
      "y a los que están en la tierra.\n",
      "y los que no tienen\n",
      "\n",
      "GENERATED FROM MODEL (temperature = 0.500000):\n",
      "y en ese momento todos dijeron: yo soy el dios de abraham.\n",
      "y los que habían sido muertos de muertos.\n",
      "a los que se ven, y no me ha dado el señor.\n",
      "y se le dio la gracia de dios.\n",
      "porque el que tiene oído, y el que es\n",
      "\n",
      "GENERATED FROM MODEL (temperature = 0.750000):\n",
      "y en ese momento todos dijeron: por una sola parte les ha dado cuanto no me ha dado dios para los que están en vosotros.\n",
      "porque nosotros somos hijos del dios.\n",
      "en esto, que también vino en sangre.\n",
      "y por esto también vosotros, para que ninguno de vosotros sea con\n"
     ]
    }
   ],
   "source": [
    "# Using custom text\n",
    "text = 'Y en ese momento todos dijeron'\n",
    "n_words = 50\n",
    "temperatures = [0.25, 0.5, 0.75]\n",
    "\n",
    "print('SOURCE TEXT:\\n%s' % text)\n",
    "\n",
    "for temperature in temperatures:\n",
    "    print('\\nGENERATED FROM MODEL (temperature = %f):' % temperature)\n",
    "    model_sample = generate_from_model(text, model, embeddings, idx2word, word2idx,\n",
    "                                       n_words, temperature, truncating='post',\n",
    "                                       custom_text=True, mode='spanish_g')\n",
    "    print_word_list(model_sample)"
   ]
  }
 ],
 "metadata": {
  "anaconda-cloud": {},
  "kernelspec": {
   "display_name": "Python [conda env:tf]",
   "language": "python",
   "name": "conda-env-tf-py"
  },
  "language_info": {
   "codemirror_mode": {
    "name": "ipython",
    "version": 3
   },
   "file_extension": ".py",
   "mimetype": "text/x-python",
   "name": "python",
   "nbconvert_exporter": "python",
   "pygments_lexer": "ipython3",
   "version": "3.5.2"
  }
 },
 "nbformat": 4,
 "nbformat_minor": 1
}
