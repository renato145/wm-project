{
 "cells": [
  {
   "cell_type": "code",
   "execution_count": 1,
   "metadata": {
    "collapsed": false
   },
   "outputs": [
    {
     "name": "stderr",
     "output_type": "stream",
     "text": [
      "Using TensorFlow backend.\n",
      "/home/m20163692/anaconda3/envs/tf/lib/python3.5/site-packages/gensim/utils.py:1015: UserWarning: Pattern library is not installed, lemmatization won't be available.\n",
      "  warnings.warn(\"Pattern library is not installed, lemmatization won't be available.\")\n"
     ]
    }
   ],
   "source": [
    "# Keras fix\n",
    "import tensorflow\n",
    "from tensorflow.python.ops import control_flow_ops\n",
    "tensorflow.python.control_flow_ops = control_flow_ops\n",
    "\n",
    "from keras.models import load_model\n",
    "from nl.text_gen import generate_from_model\n",
    "from nl.utils import load_w2v_data, GenerateSamples, print_word_list, parse_text"
   ]
  },
  {
   "cell_type": "code",
   "execution_count": 2,
   "metadata": {
    "collapsed": false
   },
   "outputs": [
    {
     "name": "stdout",
     "output_type": "stream",
     "text": [
      "Loading files...\n"
     ]
    }
   ],
   "source": [
    "print('Loading files...')\n",
    "\n",
    "text_file = 'text_files/bible_clean.txt'\n",
    "model_file = 'models/bible_model.h5'\n",
    "\n",
    "model = load_model(model_file)\n",
    "seq_len = model.input_shape[1]\n",
    "input_dim = model.input_shape[2]\n",
    "\n",
    "word2idx, idx2word, embeddings = load_w2v_data('w2v_embs/bible/bible_vocab.json',\n",
    "                                               'w2v_embs/bible/bible_embeddings.npz')"
   ]
  },
  {
   "cell_type": "code",
   "execution_count": 4,
   "metadata": {
    "collapsed": false,
    "scrolled": false
   },
   "outputs": [
    {
     "name": "stdout",
     "output_type": "stream",
     "text": [
      "--------------------------------------------------------------------------------\n",
      "SAMPLE 1:\n",
      "vosotros, pues, no os preocupéis por lo que habéis de\n",
      "\n",
      "TRUTH:\n",
      "vosotros, pues, no os preocupéis por lo que habéis de comer, ni por lo que habéis de beber, ni estéis en ansiosa inquietud.\n",
      " porque todas estas cosas buscan las gentes del mundo; pero vuestro padre sabe\n",
      "\n",
      "GENERATED FROM MODEL (temperature = 0.250000):\n",
      "vosotros, pues, no os preocupéis por lo que habéis de hacer, sino por lo que habéis oído de la tierra, si no os he dado a conocer al espíritu de la verdad, y a los ángeles de dios que me han sido por los siglos de los siglos. amén.\n",
      " por esto, amén.\n",
      " en esto se ha dado a conocer la fe para que le sea a vosotros por demás fe, a fin de que en todo tiempo habéis sido en toda buena tierra que habéis oído, no sea que haya sido la sangre de los profetas y de los profetas,\n",
      "\n",
      "GENERATED FROM MODEL (temperature = 0.500000):\n",
      "vosotros, pues, no os preocupéis por lo que habéis de hacer, sino por causa de vuestra fe, no sea que os sea hecho.\n",
      " y el que os llamó por el nombre de nuestro señor y el señor de toda la tierra.\n",
      " y nosotros hemos oído que hemos oído de la verdad, de la verdad, de la fe, de la fe, del amor y de la fe en una voz que el cielo es el trono; y el que hace la tierra y su nombre, y las cosas que están en el cielo, y las cosas que están en él\n",
      "\n",
      "GENERATED FROM MODEL (temperature = 0.750000):\n",
      "vosotros, pues, no os preocupéis por lo que habéis de hacer, ni por todo lo que habéis oído.\n",
      " porque si os he dado que si os por la verdad,, vosotros también, en toda buena obra, sea también la palabra de dios para el nada.\n",
      " porque el hijo del hombre es señor de toda la tierra, y dios de una gran voz, de tal manera que ahora me ha llegado hasta el cielo, y como el cielo me ha dado, no me ha dado esta vida; si no, no me ha conocido.\n",
      " en cuanto a la verdad\n",
      "--------------------------------------------------------------------------------\n",
      "--------------------------------------------------------------------------------\n",
      "SAMPLE 2:\n",
      "él creyó en esperanza contra esperanza, para llegar a ser padre\n",
      "\n",
      "TRUTH:\n",
      "él creyó en esperanza contra esperanza, para llegar a ser padre de muchas gentes, conforme a lo que se le había dicho: así será tu descendencia.\n",
      " y no se debilitó en la fe al considerar su cuerpo,\n",
      "\n",
      "GENERATED FROM MODEL (temperature = 0.250000):\n",
      "él creyó en esperanza contra esperanza, para llegar a ser padre de todos los que se le han dado de la luz, de las cuales se ha dado a conocer la sabiduría de este mundo, para que el mundo sea en gloria.\n",
      " porque el padre a las tinieblas no se ha dado a luz hijos, sino también a vosotros que son luz en el hijo.\n",
      " si alguno está en luz, no está en nosotros, porque no hay luz en él; para que nosotros no nos sea dado en su poder el espíritu santo, el cual nos hizo de dios y del mal\n",
      "\n",
      "GENERATED FROM MODEL (temperature = 0.500000):\n",
      "él creyó en esperanza contra esperanza, para llegar a ser padre de todos los que se le han dado para que le sea hecho.\n",
      " porque ahora, hermanos, os ruego que sea el señor de la mano del señor.\n",
      " y el señor le dijo: yo soy el primero y el hijo; el siervo de una sola carne, y el otro de otro, y otra vez para dios.\n",
      " y se le dio el nombre del señor jesús sobre los que estaban en el cielo.\n",
      " y el ángel que hablaba conmigo tenía una espada e hijos he sobre él, y sobre todo el\n",
      "\n",
      "GENERATED FROM MODEL (temperature = 0.750000):\n",
      "él creyó en esperanza contra esperanza, para llegar a ser padre de la salvación de nuestro señor.\n",
      " porque todo aquel que es de quien está en la verdad, conforme a la fe de. amén.\n",
      " por la fe de abraham, el hijo de dios, y por el padre de nuestro señor, y por quien sea gloria para su hermano.\n",
      " y al que la padre no le es por padre, sino por la mujer que es la cabeza de ella.\n",
      " pero la mujer no está en la verdad; pero el que no es conmigo, sino por el que no es de\n",
      "--------------------------------------------------------------------------------\n",
      "--------------------------------------------------------------------------------\n",
      "SAMPLE 3:\n",
      "y ya no estoy en el mundo; mas éstos están en\n",
      "\n",
      "TRUTH:\n",
      "y ya no estoy en el mundo; mas éstos están en el mundo, y yo voy a ti. padre santo, a los que me has dado, guárdalos en tu nombre, para que sean uno, así\n",
      "\n",
      "GENERATED FROM MODEL (temperature = 0.250000):\n",
      "y ya no estoy en el mundo; mas éstos están en el mundo, y yo en su reino no hay pecado; porque yo soy el primero y el primero.\n",
      " yo soy el primero y el principio; el primero es el fin de los siglos. amén.\n",
      " y los que de vosotros no son hijos, como el padre mismo, que está en el mundo.\n",
      " no os hagáis, pues, los que os hemos no lo he mandado, si no lo hemos visto, y que se le haya dado el tiempo de las cosas del cordero.\n",
      " por esto el señor,\n",
      "\n",
      "GENERATED FROM MODEL (temperature = 0.500000):\n",
      "y ya no estoy en el mundo; mas éstos están en el mundo, y yo en su reino me ha hecho bien, no por mi hijo, sino por el espíritu santo que soy, de que también vosotros os es dado el reino de dios; y no os hagáis esta; porque no os hagáis de esta manera, sino que también os he escrito como la ley en el libro de la ley, como también fue escrito de él, y como si de quien se le ha dado todas las cosas en las cuales se le ha dado esta vida.\n",
      " y si en\n",
      "\n",
      "GENERATED FROM MODEL (temperature = 0.750000):\n",
      "y ya no estoy en el mundo; mas éstos están en el mundo, y yo en su trono me ha hecho una gran espada. y la mujer fue su que fue con ella, y se le dio a luz un hijo que no; contra el hijo del hombre el que tiene en la mano, a quien ¿por qué se ha hecho vuestra esperanza? en ninguna manera otra vez se ha de dar a los demás como a los ángeles de dios que le había de dar; entonces le dijo: yo soy el primero y el hijo del hombre.\n",
      " el que tiene\n",
      "--------------------------------------------------------------------------------\n"
     ]
    }
   ],
   "source": [
    "# Random samples from text_file\n",
    "n_samples = 3\n",
    "n_words = 100\n",
    "print_truth = True\n",
    "n_truth_words = 30\n",
    "temperatures = [0.25, 0.5, 0.75]\n",
    "\n",
    "samples = GenerateSamples(word2idx, text_file, 'general_2', n_samples=n_samples, samples_len=n_words)\n",
    "\n",
    "for idx, sample in enumerate(samples):\n",
    "    print('-' * 80)\n",
    "    print('SAMPLE %d:' % (idx + 1))\n",
    "    print_word_list(sample[:seq_len])\n",
    "    \n",
    "    if print_truth:\n",
    "        print('\\nTRUTH:')\n",
    "        print_word_list(sample[:seq_len + n_truth_words])\n",
    "    \n",
    "    for temperature in temperatures:\n",
    "        print('\\nGENERATED FROM MODEL (temperature = %f):' % temperature)\n",
    "        model_sample = generate_from_model(sample, model, embeddings, idx2word,\n",
    "                                           word2idx, n_words, temperature)\n",
    "        print_word_list(model_sample)\n",
    "    \n",
    "    print('-' * 80)"
   ]
  },
  {
   "cell_type": "code",
   "execution_count": 7,
   "metadata": {
    "collapsed": false
   },
   "outputs": [
    {
     "name": "stdout",
     "output_type": "stream",
     "text": [
      "SOURCE TEXT:\n",
      "dentro de un poco mas de un día\n",
      "\n",
      "GENERATED FROM MODEL (temperature = 0.250000):\n",
      "dentro de un poco mas de un día.\n",
      " y no como los que me aman, sino que también yo también le daré la diestra de mi gloria.\n",
      " pero la gracia de dios es con él.\n",
      " pero no se le dio el nombre de ellos.\n",
      " y a los que no se han de decir; y no sólo en el reino de dios.\n",
      " por tanto, yo también te digo que tú eres el que le hizo la para que le haya dado a luz.\n",
      " y no sólo la mujer, sino el que no fue por su obra, sino que\n",
      "\n",
      "GENERATED FROM MODEL (temperature = 0.500000):\n",
      "dentro de un poco mas de un día, que la ira de dios se ha sentado sobre el trono de su nombre, a fin de que no soy ni sólo el mar.\n",
      " por tanto, todo lo que es justo, como también al principio, para que él sea el reino de dios.\n",
      " y si el padre de familia no nos ha dado.\n",
      " y si en el día de la ira del dios vivo; y el ángel de dios no será más, y como él de todos; y en su día le daré el juicio de su poder.\n",
      "\n",
      "GENERATED FROM MODEL (temperature = 0.750000):\n",
      "dentro de un poco mas de un día; no sólo en el mundo, sino en el poder de dios.\n",
      " porque si no me he sido hecho ahora y no como la tierra.\n",
      " no somos los que la sangre es uno solo.\n",
      " porque donde no hay otro ángel, el que sea justo, antes que sea de dios, y de gloria; porque de su por venir la tierra la a. ¿y por qué no habéis oído la voz de su hijo.\n",
      " porque él ha oído nosotros la voz, pero no sólo la palabra, aunque por todas\n"
     ]
    }
   ],
   "source": [
    "# Using custom text\n",
    "text = 'dentro de un poco mas de un día'\n",
    "n_words = 100\n",
    "temperatures = [0.25, 0.5, 0.75]\n",
    "\n",
    "print('SOURCE TEXT:\\n%s' % text)\n",
    "\n",
    "for temperature in temperatures:\n",
    "    print('\\nGENERATED FROM MODEL (temperature = %f):' % temperature)\n",
    "    model_sample = generate_from_model(text, model, embeddings, idx2word, word2idx,\n",
    "                                       n_words, temperature, truncating='post',\n",
    "                                       custom_text=True, mode='general_2')\n",
    "    print_word_list(model_sample)"
   ]
  }
 ],
 "metadata": {
  "anaconda-cloud": {},
  "kernelspec": {
   "display_name": "Python [default]",
   "language": "python",
   "name": "python3"
  },
  "language_info": {
   "codemirror_mode": {
    "name": "ipython",
    "version": 3
   },
   "file_extension": ".py",
   "mimetype": "text/x-python",
   "name": "python",
   "nbconvert_exporter": "python",
   "pygments_lexer": "ipython3",
   "version": "3.5.2"
  }
 },
 "nbformat": 4,
 "nbformat_minor": 1
}
