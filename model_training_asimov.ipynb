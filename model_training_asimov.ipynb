{
 "cells": [
  {
   "cell_type": "code",
   "execution_count": 1,
   "metadata": {
    "collapsed": false
   },
   "outputs": [
    {
     "name": "stderr",
     "output_type": "stream",
     "text": [
      "Using TensorFlow backend.\n",
      "/home/m20163692/anaconda3/envs/tf/lib/python3.5/site-packages/gensim/utils.py:1015: UserWarning: Pattern library is not installed, lemmatization won't be available.\n",
      "  warnings.warn(\"Pattern library is not installed, lemmatization won't be available.\")\n"
     ]
    }
   ],
   "source": [
    "import os\n",
    "import numpy as np\n",
    "from time import time\n",
    "\n",
    "# Keras fix\n",
    "import tensorflow\n",
    "from tensorflow.python.ops import control_flow_ops\n",
    "tensorflow.python.control_flow_ops = control_flow_ops\n",
    "\n",
    "from keras.models import Sequential, Model, load_model\n",
    "from keras.layers import Dense, LSTM, Input, merge, Dropout, Activation\n",
    "from keras.layers.wrappers import TimeDistributed, Bidirectional\n",
    "from keras.layers.normalization import BatchNormalization\n",
    "from keras.layers.advanced_activations import ELU\n",
    "from keras.utils.np_utils import to_categorical\n",
    "\n",
    "from nl.utils import load_w2v_data, generate_train_data, shuffle_data, BatchGenerator"
   ]
  },
  {
   "cell_type": "code",
   "execution_count": 2,
   "metadata": {
    "collapsed": true
   },
   "outputs": [],
   "source": [
    "# Hyperparams - model\n",
    "seq_len = 12\n",
    "lstm_dim = 500\n",
    "dense_dim = 1500\n",
    "drop_out = 0.2\n",
    "\n",
    "# Hyperparams - training\n",
    "train_batch = 128000\n",
    "train_iterations = 50\n",
    "batch_size = 256\n",
    "\n",
    "model_file = 'models/asimov_model.h5'\n",
    "model_log = 'models/asimov_model.log'\n",
    "model_log_np = 'models/asimov_model.npz'\n",
    "\n",
    "w2v_vocab = 'w2v_embs/asimov/asimov_vocab.json'\n",
    "w2v_embeddings = 'w2v_embs/asimov/asimov_embeddings.npz'"
   ]
  },
  {
   "cell_type": "code",
   "execution_count": 3,
   "metadata": {
    "collapsed": false
   },
   "outputs": [
    {
     "name": "stdout",
     "output_type": "stream",
     "text": [
      "Generating train data...\n",
      "10.04s\n",
      "\n",
      "Number of words: 47903\n",
      "Embedding dimensions: 200\n"
     ]
    }
   ],
   "source": [
    "# Load data\n",
    "word2idx, idx2word, embeddings = load_w2v_data(w2v_vocab, w2v_embeddings)\n",
    "\n",
    "x, y = generate_train_data(word2idx, 'text_files/asimov', seq_len=seq_len,\n",
    "                           mode='general_1', content='dir')\n",
    "\n",
    "n_words = embeddings.shape[0]\n",
    "input_dim = embeddings.shape[1]\n",
    "\n",
    "print('\\nNumber of words: %d\\nEmbedding dimensions: %d' % (n_words, input_dim))\n",
    "\n",
    "batch_generator = BatchGenerator(x, y, batch_size=train_batch)\n",
    "\n",
    "del(x)\n",
    "del(y)"
   ]
  },
  {
   "cell_type": "markdown",
   "metadata": {},
   "source": [
    "### Model"
   ]
  },
  {
   "cell_type": "code",
   "execution_count": 4,
   "metadata": {
    "collapsed": false
   },
   "outputs": [
    {
     "name": "stdout",
     "output_type": "stream",
     "text": [
      "Loading model...\n"
     ]
    }
   ],
   "source": [
    "def branch_model(x, backwards=False):\n",
    "    x = LSTM(lstm_dim, return_sequences=True, go_backwards=backwards)(x)\n",
    "    x = BatchNormalization()(x)\n",
    "    x = LSTM(lstm_dim, go_backwards=backwards)(x)\n",
    "    return x\n",
    "\n",
    "if os.path.exists(model_file):\n",
    "    print('Loading model...')\n",
    "    model = load_model(model_file)\n",
    "else:\n",
    "    print('Building model...')\n",
    "    model_input = Input(shape=(seq_len, input_dim))\n",
    "    data_input = TimeDistributed(Dense(lstm_dim), input_shape=(seq_len, input_dim))(model_input)\n",
    "    data_input = BatchNormalization()(data_input)\n",
    "\n",
    "    left_branch = branch_model(data_input)\n",
    "    right_branch = branch_model(data_input, backwards=True)\n",
    "\n",
    "    merged = merge([left_branch, right_branch], mode='concat')\n",
    "    merged = BatchNormalization()(merged)\n",
    "    merged = Dropout(drop_out)(merged)\n",
    "\n",
    "    dense = Dense(dense_dim)(merged)\n",
    "    dense = ELU()(dense)\n",
    "    dense = Dropout(drop_out)(dense)\n",
    "\n",
    "    dense = Dense(n_words, activation='softmax')(dense)\n",
    "\n",
    "    model = Model(model_input, dense)\n",
    "    model.compile(optimizer='rmsprop',\n",
    "                  loss='categorical_crossentropy',\n",
    "                  metrics=['accuracy'])\n",
    "    \n",
    "if os.path.exists(model_log_np):\n",
    "    np_log = np.load(open(model_log_np, 'rb'))\n",
    "    log_acc = list(np_log[0])\n",
    "    log_loss = list(np_log[1])\n",
    "else:\n",
    "    log_acc = []\n",
    "    log_loss = []"
   ]
  },
  {
   "cell_type": "markdown",
   "metadata": {},
   "source": [
    "### Training"
   ]
  },
  {
   "cell_type": "code",
   "execution_count": null,
   "metadata": {
    "collapsed": false
   },
   "outputs": [
    {
     "name": "stdout",
     "output_type": "stream",
     "text": [
      "----------------------------------------\n",
      "TRAINING BEGINS\n",
      "----------------------------------------\n",
      "Epoch 1/1\n",
      " 10240/128000 [=>............................] - ETA: 445s - loss: 5.9955 - acc: 0.2612"
     ]
    }
   ],
   "source": [
    "def write_log(text, verbose=True):\n",
    "    if verbose:\n",
    "        print(text)\n",
    "    text += '\\n'\n",
    "    with open(model_log, 'a') as f:\n",
    "        f.write(text)\n",
    "\n",
    "write_log('-'*40)\n",
    "write_log('TRAINING BEGINS')\n",
    "write_log('-'*40)\n",
    "\n",
    "t0 = time()\n",
    "\n",
    "for iteration, (x, y) in enumerate(batch_generator):\n",
    "    it_t0 = time()\n",
    "    if iteration == train_iterations: break\n",
    "    \n",
    "    batch_generator\n",
    "    train_x = embeddings[x]\n",
    "    train_y = to_categorical(y, n_words)\n",
    "    hist = model.fit(train_x, train_y, batch_size=batch_size, nb_epoch=1)\n",
    "    acc = hist.history['acc']\n",
    "    loss = hist.history['loss']\n",
    "    log_acc.append(acc[0])\n",
    "    log_loss.append(loss[0])\n",
    "    write_log('(Iteration %d) loss: %.4f - acc: %.4f (%.2fs)' %\n",
    "              (iteration + 1, loss[0], acc[0], time() - it_t0), False)\n",
    "    del(train_x)\n",
    "    del(train_y)\n",
    "    \n",
    "    model.save(model_file)\n",
    "    np_log = np.asarray([log_acc,log_loss])\n",
    "    np.save(open(model_log_np, 'wb'), np_log)\n",
    "        \n",
    "write_log('Total training time: %.2fs' % (time() - t0))\n",
    "write_log('-'*40)\n",
    "write_log('TRAINING ENDS')\n",
    "write_log('-'*40)"
   ]
  },
  {
   "cell_type": "code",
   "execution_count": 5,
   "metadata": {
    "collapsed": false
   },
   "outputs": [
    {
     "data": {
      "image/png": "[encoded data removed]",
      "text/plain": [
       "<matplotlib.figure.Figure at 0x7f92d0f80080>"
      ]
     },
     "metadata": {},
     "output_type": "display_data"
    },
    {
     "data": {
      "image/png": "[encoded data removed]",
      "text/plain": [
       "<matplotlib.figure.Figure at 0x7f91d258da90>"
      ]
     },
     "metadata": {},
     "output_type": "display_data"
    }
   ],
   "source": [
    "import matplotlib.pyplot as plt\n",
    "%matplotlib inline\n",
    "\n",
    "plt.plot(log_acc)\n",
    "plt.show()\n",
    "\n",
    "plt.plot(log_loss)\n",
    "plt.show()"
   ]
  },
  {
   "cell_type": "code",
   "execution_count": 6,
   "metadata": {
    "collapsed": true
   },
   "outputs": [],
   "source": [
    "from keras.utils.visualize_util import plot\n",
    "plot(model, to_file='model.png')"
   ]
  },
  {
   "cell_type": "code",
   "execution_count": 5,
   "metadata": {
    "collapsed": false
   },
   "outputs": [
    {
     "data": {
      "image/svg+xml": [
       "<svg height=\"934pt\" viewBox=\"0.00 0.00 542.00 934.00\" width=\"542pt\" xmlns=\"http://www.w3.org/2000/svg\" xmlns:xlink=\"http://www.w3.org/1999/xlink\">\n",
       "<g class=\"graph\" id=\"graph0\" transform=\"scale(1 1) rotate(0) translate(4 930)\">\n",
       "<title>G</title>\n",
       "<polygon fill=\"white\" points=\"-4,5 -4,-930 539,-930 539,5 -4,5\" stroke=\"white\"/>\n",
       "<!-- 139806011480216 -->\n",
       "<g class=\"node\" id=\"node1\"><title>139806011480216</title>\n",
       "<polygon fill=\"none\" points=\"200.5,-889 200.5,-925 331.5,-925 331.5,-889 200.5,-889\" stroke=\"black\"/>\n",
       "<text font-family=\"Times,serif\" font-size=\"14.00\" text-anchor=\"middle\" x=\"266\" y=\"-903.3\">input_1 (InputLayer)</text>\n",
       "</g>\n",
       "<!-- 139806065912296 -->\n",
       "<g class=\"node\" id=\"node2\"><title>139806065912296</title>\n",
       "<polygon fill=\"none\" points=\"158.5,-815 158.5,-851 373.5,-851 373.5,-815 158.5,-815\" stroke=\"black\"/>\n",
       "<text font-family=\"Times,serif\" font-size=\"14.00\" text-anchor=\"middle\" x=\"266\" y=\"-829.3\">timedistributed_1 (TimeDistributed)</text>\n",
       "</g>\n",
       "<!-- 139806011480216&#45;&gt;139806065912296 -->\n",
       "<g class=\"edge\" id=\"edge1\"><title>139806011480216-&gt;139806065912296</title>\n",
       "<path d=\"M266,-888.937C266,-880.807 266,-870.876 266,-861.705\" fill=\"none\" stroke=\"black\"/>\n",
       "<polygon fill=\"black\" points=\"269.5,-861.441 266,-851.441 262.5,-861.441 269.5,-861.441\" stroke=\"black\"/>\n",
       "</g>\n",
       "<!-- 139806066513904 -->\n",
       "<g class=\"node\" id=\"node3\"><title>139806066513904</title>\n",
       "<polygon fill=\"none\" points=\"137,-741 137,-777 395,-777 395,-741 137,-741\" stroke=\"black\"/>\n",
       "<text font-family=\"Times,serif\" font-size=\"14.00\" text-anchor=\"middle\" x=\"266\" y=\"-755.3\">batchnormalization_1 (BatchNormalization)</text>\n",
       "</g>\n",
       "<!-- 139806065912296&#45;&gt;139806066513904 -->\n",
       "<g class=\"edge\" id=\"edge2\"><title>139806065912296-&gt;139806066513904</title>\n",
       "<path d=\"M266,-814.937C266,-806.807 266,-796.876 266,-787.705\" fill=\"none\" stroke=\"black\"/>\n",
       "<polygon fill=\"black\" points=\"269.5,-787.441 266,-777.441 262.5,-787.441 269.5,-787.441\" stroke=\"black\"/>\n",
       "</g>\n",
       "<!-- 139806011566736 -->\n",
       "<g class=\"node\" id=\"node4\"><title>139806011566736</title>\n",
       "<polygon fill=\"none\" points=\"115,-667 115,-703 219,-703 219,-667 115,-667\" stroke=\"black\"/>\n",
       "<text font-family=\"Times,serif\" font-size=\"14.00\" text-anchor=\"middle\" x=\"167\" y=\"-681.3\">lstm_1 (LSTM)</text>\n",
       "</g>\n",
       "<!-- 139806066513904&#45;&gt;139806011566736 -->\n",
       "<g class=\"edge\" id=\"edge3\"><title>139806066513904-&gt;139806011566736</title>\n",
       "<path d=\"M242.538,-740.937C229.564,-731.501 213.253,-719.639 199.112,-709.354\" fill=\"none\" stroke=\"black\"/>\n",
       "<polygon fill=\"black\" points=\"200.782,-706.241 190.636,-703.19 196.665,-711.902 200.782,-706.241\" stroke=\"black\"/>\n",
       "</g>\n",
       "<!-- 139805952366240 -->\n",
       "<g class=\"node\" id=\"node5\"><title>139805952366240</title>\n",
       "<polygon fill=\"none\" points=\"314,-667 314,-703 418,-703 418,-667 314,-667\" stroke=\"black\"/>\n",
       "<text font-family=\"Times,serif\" font-size=\"14.00\" text-anchor=\"middle\" x=\"366\" y=\"-681.3\">lstm_3 (LSTM)</text>\n",
       "</g>\n",
       "<!-- 139806066513904&#45;&gt;139805952366240 -->\n",
       "<g class=\"edge\" id=\"edge4\"><title>139806066513904-&gt;139805952366240</title>\n",
       "<path d=\"M289.699,-740.937C302.928,-731.412 319.59,-719.415 333.967,-709.063\" fill=\"none\" stroke=\"black\"/>\n",
       "<polygon fill=\"black\" points=\"336.055,-711.873 342.125,-703.19 331.965,-706.193 336.055,-711.873\" stroke=\"black\"/>\n",
       "</g>\n",
       "<!-- 139805949509192 -->\n",
       "<g class=\"node\" id=\"node6\"><title>139805949509192</title>\n",
       "<polygon fill=\"none\" points=\"0,-593 0,-629 258,-629 258,-593 0,-593\" stroke=\"black\"/>\n",
       "<text font-family=\"Times,serif\" font-size=\"14.00\" text-anchor=\"middle\" x=\"129\" y=\"-607.3\">batchnormalization_2 (BatchNormalization)</text>\n",
       "</g>\n",
       "<!-- 139806011566736&#45;&gt;139805949509192 -->\n",
       "<g class=\"edge\" id=\"edge5\"><title>139806011566736-&gt;139805949509192</title>\n",
       "<path d=\"M157.995,-666.937C153.517,-658.454 148.005,-648.009 142.993,-638.513\" fill=\"none\" stroke=\"black\"/>\n",
       "<polygon fill=\"black\" points=\"145.968,-636.651 138.205,-629.441 139.777,-639.918 145.968,-636.651\" stroke=\"black\"/>\n",
       "</g>\n",
       "<!-- 139805947666216 -->\n",
       "<g class=\"node\" id=\"node7\"><title>139805947666216</title>\n",
       "<polygon fill=\"none\" points=\"276,-593 276,-629 534,-629 534,-593 276,-593\" stroke=\"black\"/>\n",
       "<text font-family=\"Times,serif\" font-size=\"14.00\" text-anchor=\"middle\" x=\"405\" y=\"-607.3\">batchnormalization_3 (BatchNormalization)</text>\n",
       "</g>\n",
       "<!-- 139805952366240&#45;&gt;139805947666216 -->\n",
       "<g class=\"edge\" id=\"edge6\"><title>139805952366240-&gt;139805947666216</title>\n",
       "<path d=\"M375.242,-666.937C379.838,-658.454 385.495,-648.009 390.639,-638.513\" fill=\"none\" stroke=\"black\"/>\n",
       "<polygon fill=\"black\" points=\"393.868,-639.901 395.553,-629.441 387.713,-636.567 393.868,-639.901\" stroke=\"black\"/>\n",
       "</g>\n",
       "<!-- 139805887147648 -->\n",
       "<g class=\"node\" id=\"node8\"><title>139805887147648</title>\n",
       "<polygon fill=\"none\" points=\"154,-519 154,-555 258,-555 258,-519 154,-519\" stroke=\"black\"/>\n",
       "<text font-family=\"Times,serif\" font-size=\"14.00\" text-anchor=\"middle\" x=\"206\" y=\"-533.3\">lstm_2 (LSTM)</text>\n",
       "</g>\n",
       "<!-- 139805949509192&#45;&gt;139805887147648 -->\n",
       "<g class=\"edge\" id=\"edge7\"><title>139805949509192-&gt;139805887147648</title>\n",
       "<path d=\"M147.248,-592.937C157.053,-583.768 169.309,-572.308 180.086,-562.231\" fill=\"none\" stroke=\"black\"/>\n",
       "<polygon fill=\"black\" points=\"182.702,-564.576 187.616,-555.19 177.921,-559.464 182.702,-564.576\" stroke=\"black\"/>\n",
       "</g>\n",
       "<!-- 139805886473384 -->\n",
       "<g class=\"node\" id=\"node9\"><title>139805886473384</title>\n",
       "<polygon fill=\"none\" points=\"314,-519 314,-555 418,-555 418,-519 314,-519\" stroke=\"black\"/>\n",
       "<text font-family=\"Times,serif\" font-size=\"14.00\" text-anchor=\"middle\" x=\"366\" y=\"-533.3\">lstm_4 (LSTM)</text>\n",
       "</g>\n",
       "<!-- 139805947666216&#45;&gt;139805886473384 -->\n",
       "<g class=\"edge\" id=\"edge8\"><title>139805947666216-&gt;139805886473384</title>\n",
       "<path d=\"M395.758,-592.937C391.162,-584.454 385.505,-574.009 380.361,-564.513\" fill=\"none\" stroke=\"black\"/>\n",
       "<polygon fill=\"black\" points=\"383.287,-562.567 375.447,-555.441 377.132,-565.901 383.287,-562.567\" stroke=\"black\"/>\n",
       "</g>\n",
       "<!-- 139805883662120 -->\n",
       "<g class=\"node\" id=\"node10\"><title>139805883662120</title>\n",
       "<polygon fill=\"none\" points=\"229.5,-445 229.5,-481 342.5,-481 342.5,-445 229.5,-445\" stroke=\"black\"/>\n",
       "<text font-family=\"Times,serif\" font-size=\"14.00\" text-anchor=\"middle\" x=\"286\" y=\"-459.3\">merge_1 (Merge)</text>\n",
       "</g>\n",
       "<!-- 139805887147648&#45;&gt;139805883662120 -->\n",
       "<g class=\"edge\" id=\"edge9\"><title>139805887147648-&gt;139805883662120</title>\n",
       "<path d=\"M224.959,-518.937C235.245,-509.679 248.127,-498.086 259.402,-487.938\" fill=\"none\" stroke=\"black\"/>\n",
       "<polygon fill=\"black\" points=\"261.808,-490.481 266.9,-481.19 257.126,-485.278 261.808,-490.481\" stroke=\"black\"/>\n",
       "</g>\n",
       "<!-- 139805886473384&#45;&gt;139805883662120 -->\n",
       "<g class=\"edge\" id=\"edge10\"><title>139805886473384-&gt;139805883662120</title>\n",
       "<path d=\"M347.041,-518.937C336.755,-509.679 323.873,-498.086 312.598,-487.938\" fill=\"none\" stroke=\"black\"/>\n",
       "<polygon fill=\"black\" points=\"314.874,-485.278 305.1,-481.19 310.192,-490.481 314.874,-485.278\" stroke=\"black\"/>\n",
       "</g>\n",
       "<!-- 139805880835656 -->\n",
       "<g class=\"node\" id=\"node11\"><title>139805880835656</title>\n",
       "<polygon fill=\"none\" points=\"157,-371 157,-407 415,-407 415,-371 157,-371\" stroke=\"black\"/>\n",
       "<text font-family=\"Times,serif\" font-size=\"14.00\" text-anchor=\"middle\" x=\"286\" y=\"-385.3\">batchnormalization_4 (BatchNormalization)</text>\n",
       "</g>\n",
       "<!-- 139805883662120&#45;&gt;139805880835656 -->\n",
       "<g class=\"edge\" id=\"edge11\"><title>139805883662120-&gt;139805880835656</title>\n",
       "<path d=\"M286,-444.937C286,-436.807 286,-426.876 286,-417.705\" fill=\"none\" stroke=\"black\"/>\n",
       "<polygon fill=\"black\" points=\"289.5,-417.441 286,-407.441 282.5,-417.441 289.5,-417.441\" stroke=\"black\"/>\n",
       "</g>\n",
       "<!-- 139805881034120 -->\n",
       "<g class=\"node\" id=\"node12\"><title>139805881034120</title>\n",
       "<polygon fill=\"none\" points=\"221,-297 221,-333 351,-333 351,-297 221,-297\" stroke=\"black\"/>\n",
       "<text font-family=\"Times,serif\" font-size=\"14.00\" text-anchor=\"middle\" x=\"286\" y=\"-311.3\">dropout_1 (Dropout)</text>\n",
       "</g>\n",
       "<!-- 139805880835656&#45;&gt;139805881034120 -->\n",
       "<g class=\"edge\" id=\"edge12\"><title>139805880835656-&gt;139805881034120</title>\n",
       "<path d=\"M286,-370.937C286,-362.807 286,-352.876 286,-343.705\" fill=\"none\" stroke=\"black\"/>\n",
       "<polygon fill=\"black\" points=\"289.5,-343.441 286,-333.441 282.5,-343.441 289.5,-343.441\" stroke=\"black\"/>\n",
       "</g>\n",
       "<!-- 139805879999288 -->\n",
       "<g class=\"node\" id=\"node13\"><title>139805879999288</title>\n",
       "<polygon fill=\"none\" points=\"232.5,-223 232.5,-259 339.5,-259 339.5,-223 232.5,-223\" stroke=\"black\"/>\n",
       "<text font-family=\"Times,serif\" font-size=\"14.00\" text-anchor=\"middle\" x=\"286\" y=\"-237.3\">dense_2 (Dense)</text>\n",
       "</g>\n",
       "<!-- 139805881034120&#45;&gt;139805879999288 -->\n",
       "<g class=\"edge\" id=\"edge13\"><title>139805881034120-&gt;139805879999288</title>\n",
       "<path d=\"M286,-296.937C286,-288.807 286,-278.876 286,-269.705\" fill=\"none\" stroke=\"black\"/>\n",
       "<polygon fill=\"black\" points=\"289.5,-269.441 286,-259.441 282.5,-269.441 289.5,-269.441\" stroke=\"black\"/>\n",
       "</g>\n",
       "<!-- 139805879683504 -->\n",
       "<g class=\"node\" id=\"node14\"><title>139805879683504</title>\n",
       "<polygon fill=\"none\" points=\"243,-149 243,-185 329,-185 329,-149 243,-149\" stroke=\"black\"/>\n",
       "<text font-family=\"Times,serif\" font-size=\"14.00\" text-anchor=\"middle\" x=\"286\" y=\"-163.3\">elu_1 (ELU)</text>\n",
       "</g>\n",
       "<!-- 139805879999288&#45;&gt;139805879683504 -->\n",
       "<g class=\"edge\" id=\"edge14\"><title>139805879999288-&gt;139805879683504</title>\n",
       "<path d=\"M286,-222.937C286,-214.807 286,-204.876 286,-195.705\" fill=\"none\" stroke=\"black\"/>\n",
       "<polygon fill=\"black\" points=\"289.5,-195.441 286,-185.441 282.5,-195.441 289.5,-195.441\" stroke=\"black\"/>\n",
       "</g>\n",
       "<!-- 139805879683840 -->\n",
       "<g class=\"node\" id=\"node15\"><title>139805879683840</title>\n",
       "<polygon fill=\"none\" points=\"221,-75 221,-111 351,-111 351,-75 221,-75\" stroke=\"black\"/>\n",
       "<text font-family=\"Times,serif\" font-size=\"14.00\" text-anchor=\"middle\" x=\"286\" y=\"-89.3\">dropout_2 (Dropout)</text>\n",
       "</g>\n",
       "<!-- 139805879683504&#45;&gt;139805879683840 -->\n",
       "<g class=\"edge\" id=\"edge15\"><title>139805879683504-&gt;139805879683840</title>\n",
       "<path d=\"M286,-148.937C286,-140.807 286,-130.876 286,-121.705\" fill=\"none\" stroke=\"black\"/>\n",
       "<polygon fill=\"black\" points=\"289.5,-121.441 286,-111.441 282.5,-121.441 289.5,-121.441\" stroke=\"black\"/>\n",
       "</g>\n",
       "<!-- 139805879731760 -->\n",
       "<g class=\"node\" id=\"node16\"><title>139805879731760</title>\n",
       "<polygon fill=\"none\" points=\"232.5,-1 232.5,-37 339.5,-37 339.5,-1 232.5,-1\" stroke=\"black\"/>\n",
       "<text font-family=\"Times,serif\" font-size=\"14.00\" text-anchor=\"middle\" x=\"286\" y=\"-15.3\">dense_3 (Dense)</text>\n",
       "</g>\n",
       "<!-- 139805879683840&#45;&gt;139805879731760 -->\n",
       "<g class=\"edge\" id=\"edge16\"><title>139805879683840-&gt;139805879731760</title>\n",
       "<path d=\"M286,-74.937C286,-66.8072 286,-56.8761 286,-47.7047\" fill=\"none\" stroke=\"black\"/>\n",
       "<polygon fill=\"black\" points=\"289.5,-47.4406 286,-37.4407 282.5,-47.4407 289.5,-47.4406\" stroke=\"black\"/>\n",
       "</g>\n",
       "</g>\n",
       "</svg>"
      ],
      "text/plain": [
       "<IPython.core.display.SVG object>"
      ]
     },
     "execution_count": 5,
     "metadata": {},
     "output_type": "execute_result"
    }
   ],
   "source": [
    "from IPython.display import SVG\n",
    "from keras.utils.visualize_util import model_to_dot\n",
    "\n",
    "SVG(model_to_dot(model).create(prog='dot', format='svg'))"
   ]
  }
 ],
 "metadata": {
  "anaconda-cloud": {},
  "kernelspec": {
   "display_name": "Python [conda env:tf]",
   "language": "python",
   "name": "conda-env-tf-py"
  },
  "language_info": {
   "codemirror_mode": {
    "name": "ipython",
    "version": 3
   },
   "file_extension": ".py",
   "mimetype": "text/x-python",
   "name": "python",
   "nbconvert_exporter": "python",
   "pygments_lexer": "ipython3",
   "version": "3.5.2"
  }
 },
 "nbformat": 4,
 "nbformat_minor": 1
}
