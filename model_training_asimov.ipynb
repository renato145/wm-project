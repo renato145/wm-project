{
 "cells": [
  {
   "cell_type": "code",
   "execution_count": 1,
   "metadata": {
    "collapsed": false
   },
   "outputs": [
    {
     "name": "stderr",
     "output_type": "stream",
     "text": [
      "Using TensorFlow backend.\n",
      "/home/m20163692/anaconda3/envs/tf/lib/python3.5/site-packages/gensim/utils.py:1015: UserWarning: Pattern library is not installed, lemmatization won't be available.\n",
      "  warnings.warn(\"Pattern library is not installed, lemmatization won't be available.\")\n"
     ]
    }
   ],
   "source": [
    "import os\n",
    "import numpy as np\n",
    "from time import time\n",
    "\n",
    "# Keras fix\n",
    "import tensorflow\n",
    "from tensorflow.python.ops import control_flow_ops\n",
    "tensorflow.python.control_flow_ops = control_flow_ops\n",
    "\n",
    "from keras.models import Sequential, Model, load_model\n",
    "from keras.layers import Dense, LSTM, Input, merge, Dropout, Activation\n",
    "from keras.layers.wrappers import TimeDistributed, Bidirectional\n",
    "from keras.layers.normalization import BatchNormalization\n",
    "from keras.layers.advanced_activations import ELU\n",
    "from keras.utils.np_utils import to_categorical\n",
    "\n",
    "from nl.utils import load_w2v_data, generate_train_data, shuffle_data"
   ]
  },
  {
   "cell_type": "code",
   "execution_count": 2,
   "metadata": {
    "collapsed": true
   },
   "outputs": [],
   "source": [
    "# Hyperparams - model\n",
    "seq_len = 12\n",
    "lstm_dim = 500\n",
    "dense_dim = 1500\n",
    "drop_out = 0.2\n",
    "\n",
    "# Hyperparams - training\n",
    "train_batch = 128000\n",
    "train_iterations = 5\n",
    "batch_size = 256\n",
    "\n",
    "model_file = 'models/asimov_model.h5'\n",
    "model_log = 'models/asimov_model.log'\n",
    "model_log_np = 'models/asimov_model.npz'\n",
    "\n",
    "w2v_vocab = 'w2v_embs/asimov/asimov_vocab.json'\n",
    "w2v_embeddings = 'w2v_embs/asimov/asimov_embeddings.npz'"
   ]
  },
  {
   "cell_type": "code",
   "execution_count": 3,
   "metadata": {
    "collapsed": false
   },
   "outputs": [
    {
     "name": "stdout",
     "output_type": "stream",
     "text": [
      "Generating train data...\n",
      "10.05s\n",
      "\n",
      "Number of words: 47903\n",
      "Embedding dimensions: 200\n"
     ]
    }
   ],
   "source": [
    "# Load data\n",
    "word2idx, idx2word, embeddings = load_w2v_data(w2v_vocab, w2v_embeddings)\n",
    "\n",
    "x, y = generate_train_data(word2idx, 'text_files/asimov', seq_len=seq_len,\n",
    "                           mode='general_1', content='dir')\n",
    "\n",
    "n_words = embeddings.shape[0]\n",
    "input_dim = embeddings.shape[1]\n",
    "\n",
    "print('\\nNumber of words: %d\\nEmbedding dimensions: %d' % (n_words, input_dim))"
   ]
  },
  {
   "cell_type": "markdown",
   "metadata": {},
   "source": [
    "### Model"
   ]
  },
  {
   "cell_type": "code",
   "execution_count": 4,
   "metadata": {
    "collapsed": false
   },
   "outputs": [
    {
     "name": "stdout",
     "output_type": "stream",
     "text": [
      "Loading model...\n"
     ]
    }
   ],
   "source": [
    "def branch_model(x, backwards=False):\n",
    "    x = LSTM(lstm_dim, return_sequences=True, go_backwards=backwards)(x)\n",
    "    x = BatchNormalization()(x)\n",
    "    x = LSTM(lstm_dim, go_backwards=backwards)(x)\n",
    "    return x\n",
    "\n",
    "if os.path.exists(model_file):\n",
    "    print('Loading model...')\n",
    "    model = load_model(model_file)\n",
    "else:\n",
    "    print('Building model...')\n",
    "    model_input = Input(shape=(seq_len, input_dim))\n",
    "    data_input = TimeDistributed(Dense(lstm_dim), input_shape=(seq_len, input_dim))(model_input)\n",
    "    data_input = BatchNormalization()(data_input)\n",
    "\n",
    "    left_branch = branch_model(data_input)\n",
    "    right_branch = branch_model(data_input, backwards=True)\n",
    "\n",
    "    merged = merge([left_branch, right_branch], mode='concat')\n",
    "    merged = BatchNormalization()(merged)\n",
    "    merged = Dropout(drop_out)(merged)\n",
    "\n",
    "    dense = Dense(dense_dim)(merged)\n",
    "    dense = ELU()(dense)\n",
    "    dense = Dropout(drop_out)(dense)\n",
    "\n",
    "    dense = Dense(n_words, activation='softmax')(dense)\n",
    "\n",
    "    model = Model(model_input, dense)\n",
    "    model.compile(optimizer='rmsprop',\n",
    "                  loss='categorical_crossentropy',\n",
    "                  metrics=['accuracy'])\n",
    "    \n",
    "if os.path.exists(model_log_np):\n",
    "    np_log = np.load(open(model_log_np, 'rb'))\n",
    "    log_acc = list(np_log[0])\n",
    "    log_loss = list(np_log[1])\n",
    "else:\n",
    "    log_acc = []\n",
    "    log_loss = []"
   ]
  },
  {
   "cell_type": "markdown",
   "metadata": {},
   "source": [
    "### Training"
   ]
  },
  {
   "cell_type": "code",
   "execution_count": null,
   "metadata": {
    "collapsed": false
   },
   "outputs": [
    {
     "name": "stdout",
     "output_type": "stream",
     "text": [
      "----------------------------------------\n",
      "TRAINING BEGINS\n",
      "----------------------------------------\n",
      "Epoch 1/1\n",
      "128000/128000 [==============================] - 472s - loss: 5.7521 - acc: 0.2698   \n",
      "Epoch 1/1\n",
      " 35584/128000 [=======>......................] - ETA: 336s - loss: 5.6760 - acc: 0.2794"
     ]
    }
   ],
   "source": [
    "batch_iterations = int(len(y) / train_batch) + 1\n",
    "t0 = time()\n",
    "\n",
    "def write_log(text, verbose=True):\n",
    "    if verbose:\n",
    "        print(text)\n",
    "    text += '\\n'\n",
    "    with open(model_log, 'a') as f:\n",
    "        f.write(text)\n",
    "\n",
    "write_log('-'*40)\n",
    "write_log('TRAINING BEGINS')\n",
    "write_log('-'*40)\n",
    "        \n",
    "for iteration in range(train_iterations):\n",
    "#     x, y = shuffle_data(x, y)\n",
    "    it_t0 = time()\n",
    "    \n",
    "    for batch_it in range(batch_iterations):\n",
    "        start = batch_it * train_batch\n",
    "        end = (batch_it + 1) * train_batch\n",
    "        if end > len(y):\n",
    "            end = len(y)\n",
    "        \n",
    "        train_x = embeddings[x[start:end]]\n",
    "        train_y = to_categorical(y[start:end], n_words)\n",
    "        hist = model.fit(train_x, train_y, batch_size=batch_size, nb_epoch=1)\n",
    "        \n",
    "        acc = hist.history['acc']\n",
    "        loss = hist.history['loss']\n",
    "        log_acc.append(acc[0])\n",
    "        log_loss.append(loss[0])\n",
    "        write_log('(Iteration %d) loss: %.4f - acc: %.4f' %\n",
    "                  (iteration + 1, loss[0], acc[0]), False)\n",
    "        del(train_x)\n",
    "        del(train_y)\n",
    "    \n",
    "    write_log('Iteration %d: %.2f' % (iteration + 1, time() - it_t0))\n",
    "    model.save(model_file)\n",
    "    np_log = np.asarray([log_acc,log_loss])\n",
    "    np.save(open(model_log_np, 'wb'), np_log)\n",
    "        \n",
    "write_log('Total training time: %.2fs' % (time() - t0))\n",
    "write_log('-'*40)\n",
    "write_log('TRAINING ENDS')\n",
    "write_log('-'*40)"
   ]
  },
  {
   "cell_type": "code",
   "execution_count": null,
   "metadata": {
    "collapsed": false
   },
   "outputs": [],
   "source": [
    "import matplotlib.pyplot as plt\n",
    "%matplotlib inline\n",
    "\n",
    "plt.plot(log_acc)\n",
    "plt.show()\n",
    "\n",
    "plt.plot(log_loss)\n",
    "plt.show()"
   ]
  }
 ],
 "metadata": {
  "anaconda-cloud": {},
  "kernelspec": {
   "display_name": "Python 3",
   "language": "python",
   "name": "python3"
  },
  "language_info": {
   "codemirror_mode": {
    "name": "ipython",
    "version": 3
   },
   "file_extension": ".py",
   "mimetype": "text/x-python",
   "name": "python",
   "nbconvert_exporter": "python",
   "pygments_lexer": "ipython3",
   "version": "3.5.2"
  }
 },
 "nbformat": 4,
 "nbformat_minor": 1
}
