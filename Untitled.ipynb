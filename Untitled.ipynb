{
 "cells": [
  {
   "cell_type": "code",
   "execution_count": 7,
   "metadata": {
    "collapsed": false
   },
   "outputs": [
    {
     "ename": "TypeError",
     "evalue": "asarray() missing 1 required positional argument: 'a'",
     "output_type": "error",
     "traceback": [
      "\u001b[0;31m---------------------------------------------------------------------------\u001b[0m",
      "\u001b[0;31mTypeError\u001b[0m                                 Traceback (most recent call last)",
      "\u001b[0;32m<ipython-input-7-0a8096938e10>\u001b[0m in \u001b[0;36m<module>\u001b[0;34m()\u001b[0m\n\u001b[1;32m      1\u001b[0m \u001b[0;32mimport\u001b[0m \u001b[0mnumpy\u001b[0m \u001b[0;32mas\u001b[0m \u001b[0mnp\u001b[0m\u001b[0;34m\u001b[0m\u001b[0m\n\u001b[1;32m      2\u001b[0m \u001b[0;34m\u001b[0m\u001b[0m\n\u001b[0;32m----> 3\u001b[0;31m \u001b[0mnp\u001b[0m\u001b[0;34m.\u001b[0m\u001b[0masarray\u001b[0m\u001b[0;34m(\u001b[0m\u001b[0mdtype\u001b[0m\u001b[0;34m=\u001b[0m\u001b[0;34m'float32'\u001b[0m\u001b[0;34m)\u001b[0m\u001b[0;34m\u001b[0m\u001b[0m\n\u001b[0m",
      "\u001b[0;31mTypeError\u001b[0m: asarray() missing 1 required positional argument: 'a'"
     ]
    }
   ],
   "source": [
    "import numpy as np\n",
    "\n",
    "np.asarray(dtype='float32')"
   ]
  },
  {
   "cell_type": "code",
   "execution_count": 1,
   "metadata": {
    "collapsed": false
   },
   "outputs": [
    {
     "name": "stderr",
     "output_type": "stream",
     "text": [
      "/home/m20163692/anaconda3/envs/tf/lib/python3.5/site-packages/gensim/utils.py:1015: UserWarning: Pattern library is not installed, lemmatization won't be available.\n",
      "  warnings.warn(\"Pattern library is not installed, lemmatization won't be available.\")\n",
      "Using TensorFlow backend.\n"
     ]
    }
   ],
   "source": [
    "from nl.utils import _SentenceGenerator_general_1 as g"
   ]
  },
  {
   "cell_type": "code",
   "execution_count": 2,
   "metadata": {
    "collapsed": true
   },
   "outputs": [],
   "source": [
    "x = 'text_files/asimov'\n",
    "\n",
    "sentences = g(x, content='dir')"
   ]
  },
  {
   "cell_type": "code",
   "execution_count": 3,
   "metadata": {
    "collapsed": true
   },
   "outputs": [],
   "source": [
    "from nl.utils import COMMON_CHARS_REPLACE, COMMON_FORMAT_REPLACE\n",
    "\n",
    "def print_word_list(word_list):\n",
    "    text = ''\n",
    "    for word in word_list:\n",
    "        text += ' %s ' % word\n",
    "    \n",
    "    text = text.replace(' [Edot] ', '.\\n')\n",
    "    \n",
    "    for a, b, use in COMMON_CHARS_REPLACE:\n",
    "        if use:\n",
    "            a = '%s ' % a\n",
    "            text = text.replace(b, a)\n",
    "    \n",
    "    # temporal fix\n",
    "    for a, b, use in COMMON_CHARS_REPLACE:\n",
    "        if use:\n",
    "            a = '%s ' % a\n",
    "            b = b.strip()\n",
    "            text = text.replace(b, a)\n",
    "    \n",
    "    for a, b in COMMON_FORMAT_REPLACE:\n",
    "        text = text.replace(a, b)\n",
    "\n",
    "    text = text.strip()\n",
    "    return text"
   ]
  },
  {
   "cell_type": "code",
   "execution_count": 5,
   "metadata": {
    "collapsed": false
   },
   "outputs": [
    {
     "name": "stdout",
     "output_type": "stream",
     "text": [
      "-\n",
      "-efectivamentecompañeroelijah\n"
     ]
    }
   ],
   "source": [
    "import re\n",
    "\n",
    "i = 0\n",
    "l = []\n",
    "xlx = []\n",
    "for line in sentences:\n",
    "    xlx.append(line)\n",
    "    if i == 1000: break\n",
    "    ll = print_word_list(line)\n",
    "    for a, b, use in COMMON_CHARS_REPLACE:\n",
    "        ll = ll.replace(a, '')\n",
    "    ll = ll.replace(' ', '')\n",
    "    rr = re.search('\\W*', ll)\n",
    "    if rr.group():\n",
    "        print(rr.group())\n",
    "        print(ll)\n",
    "        test = ll\n",
    "        i += 1\n",
    "        l.append(line)"
   ]
  },
  {
   "cell_type": "code",
   "execution_count": 27,
   "metadata": {
    "collapsed": false
   },
   "outputs": [
    {
     "data": {
      "text/plain": [
       "[[],\n",
       " ['[guion]',\n",
       "  'lo',\n",
       "  'habéis',\n",
       "  'encontrado',\n",
       "  'muy',\n",
       "  'pronto',\n",
       "  '[dot]',\n",
       "  '[bq]',\n",
       "  'constan',\n",
       "  'también',\n",
       "  'estos',\n",
       "  'edificios',\n",
       "  'en',\n",
       "  'el',\n",
       "  'mapa',\n",
       "  'que',\n",
       "  'ha',\n",
       "  'sido',\n",
       "  'introducido',\n",
       "  'en',\n",
       "  'tu',\n",
       "  'memoria',\n",
       "  '[eq]',\n",
       "  '[newline]'],\n",
       " [],\n",
       " ['[guion]',\n",
       "  '-efectivamente',\n",
       "  '[comma]',\n",
       "  'compañero',\n",
       "  'elijah',\n",
       "  '[dot]',\n",
       "  '[newline]'],\n",
       " []]"
      ]
     },
     "execution_count": 27,
     "metadata": {},
     "output_type": "execute_result"
    }
   ],
   "source": [
    "xlx[-5:]"
   ]
  },
  {
   "cell_type": "code",
   "execution_count": 15,
   "metadata": {
    "collapsed": false
   },
   "outputs": [
    {
     "data": {
      "text/plain": [
       "[['[guion]',\n",
       "  '-efectivamente',\n",
       "  '[comma]',\n",
       "  'compañero',\n",
       "  'elijah',\n",
       "  '[dot]',\n",
       "  '[newline]']]"
      ]
     },
     "execution_count": 15,
     "metadata": {},
     "output_type": "execute_result"
    }
   ],
   "source": [
    "l"
   ]
  },
  {
   "cell_type": "code",
   "execution_count": 10,
   "metadata": {
    "collapsed": false
   },
   "outputs": [
    {
     "data": {
      "text/plain": [
       "'-efectivamentecompañeroelijah'"
      ]
     },
     "execution_count": 10,
     "metadata": {},
     "output_type": "execute_result"
    }
   ],
   "source": [
    "test"
   ]
  },
  {
   "cell_type": "code",
   "execution_count": 45,
   "metadata": {
    "collapsed": false
   },
   "outputs": [
    {
     "data": {
      "text/plain": [
       "' [guion] assadasd-asd [guion]  asdada- asd [guion] asda sdasdasda ds-s [guion]  [guion]  '"
      ]
     },
     "execution_count": 45,
     "metadata": {},
     "output_type": "execute_result"
    }
   ],
   "source": [
    "asd = re.compile('(^[\\s]*-)|(\\s-\\s)|\\s-\\w')\n",
    "\n",
    "asd = re.compile('^-|\\s-')\n",
    "\n",
    "asd.sub(' [guion] ', '-assadasd-asd - asdada- asd -asda sdasdasda ds-s - - ')\n",
    "\n",
    "# re.sub('(^[\\s]*-)|(\\s-\\s)|\\s-\\w', '*', text)"
   ]
  },
  {
   "cell_type": "code",
   "execution_count": 14,
   "metadata": {
    "collapsed": false
   },
   "outputs": [
    {
     "data": {
      "text/plain": [
       "'-'"
      ]
     },
     "execution_count": 14,
     "metadata": {},
     "output_type": "execute_result"
    }
   ],
   "source": [
    "xxx = re.('(^[\\s]*-)|(\\s-\\s)', test)\n",
    "xxx.group()"
   ]
  },
  {
   "cell_type": "code",
   "execution_count": null,
   "metadata": {
    "collapsed": false
   },
   "outputs": [],
   "source": [
    "# No files\n",
    "w2v = Word2vec('', '')\n",
    "w2v.create_embeddings('text_files/bible_clean.txt', generate_files=False, mode='general_2',\n",
    "                      size=200, min_count=1, window=8, sg=1, iter=1, workers=8)"
   ]
  },
  {
   "cell_type": "code",
   "execution_count": null,
   "metadata": {
    "collapsed": true
   },
   "outputs": [],
   "source": []
  },
  {
   "cell_type": "code",
   "execution_count": null,
   "metadata": {
    "collapsed": true
   },
   "outputs": [],
   "source": []
  },
  {
   "cell_type": "code",
   "execution_count": null,
   "metadata": {
    "collapsed": true
   },
   "outputs": [],
   "source": []
  }
 ],
 "metadata": {
  "anaconda-cloud": {},
  "kernelspec": {
   "display_name": "Python 3",
   "language": "python",
   "name": "python3"
  },
  "language_info": {
   "codemirror_mode": {
    "name": "ipython",
    "version": 3
   },
   "file_extension": ".py",
   "mimetype": "text/x-python",
   "name": "python",
   "nbconvert_exporter": "python",
   "pygments_lexer": "ipython3",
   "version": "3.5.2"
  }
 },
 "nbformat": 4,
 "nbformat_minor": 1
}
